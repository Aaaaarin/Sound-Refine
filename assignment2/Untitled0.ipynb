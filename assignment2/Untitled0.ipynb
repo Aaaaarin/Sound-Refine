{
  "nbformat": 4,
  "nbformat_minor": 0,
  "metadata": {
    "colab": {
      "provenance": []
    },
    "kernelspec": {
      "name": "python3",
      "display_name": "Python 3"
    },
    "language_info": {
      "name": "python"
    }
  },
  "cells": [
    {
      "cell_type": "code",
      "execution_count": null,
      "metadata": {
        "id": "NYaovGKy50Z0",
        "colab": {
          "base_uri": "https://localhost:8080/"
        },
        "outputId": "e0256d72-b3cd-4b36-863d-59ec74d92421"
      },
      "outputs": [
        {
          "output_type": "stream",
          "name": "stdout",
          "text": [
            "Collecting pydub\n",
            "  Downloading pydub-0.25.1-py2.py3-none-any.whl (32 kB)\n",
            "Installing collected packages: pydub\n",
            "Successfully installed pydub-0.25.1\n"
          ]
        }
      ],
      "source": [
        "!pip install pydub\n",
        "import numpy as np\n",
        "import zipfile\n",
        "import glob as gb\n",
        "import librosa as lb\n",
        "import os\n",
        "import soundfile as sf\n",
        "from pydub import AudioSegment"
      ]
    },
    {
      "cell_type": "code",
      "source": [
        "!unzip -uq \"/content/drive/MyDrive/rawdess.zip\" -d \"/content/speech/\"\n"
      ],
      "metadata": {
        "id": "GBKFVJzODL8y"
      },
      "execution_count": null,
      "outputs": []
    },
    {
      "cell_type": "code",
      "source": [
        "!unzip -uq \"/content/drive/MyDrive/urbansound.zip\" -d \"/content/speech/\""
      ],
      "metadata": {
        "id": "MraG9LwKEdTE"
      },
      "execution_count": null,
      "outputs": []
    },
    {
      "cell_type": "code",
      "source": [
        "audio_dir = '/content/speech/urbansound_8k'"
      ],
      "metadata": {
        "id": "HdNMUYdgEywi"
      },
      "execution_count": null,
      "outputs": []
    },
    {
      "cell_type": "code",
      "source": [
        "noise_dir = '/content/speech/ravdess_rewritten_8k'"
      ],
      "metadata": {
        "id": "GQbVBvrRYqsy"
      },
      "execution_count": null,
      "outputs": []
    },
    {
      "cell_type": "code",
      "source": [
        "audio_files = gb.glob(os.path.join(audio_dir, '*.wav'))"
      ],
      "metadata": {
        "id": "Wy62RZyFsp8R"
      },
      "execution_count": null,
      "outputs": []
    },
    {
      "cell_type": "code",
      "source": [
        "noise_files = gb.glob(os.path.join(noise_dir, '*.wav'))"
      ],
      "metadata": {
        "id": "7gHjebXBva8u"
      },
      "execution_count": null,
      "outputs": []
    },
    {
      "cell_type": "code",
      "source": [
        "def newsound(speech_file, noise_file,output_path, sr=22050):\n",
        "             speech, _ = lb.load(speech_file)\n",
        "             noise, _ = lb.load(noise_file)\n",
        "             speech = AudioSegment.from_wav(speech_file)\n",
        "             noise = AudioSegment.from_wav(noise_file)\n",
        "\n",
        "             if len(noise) > len(speech):\n",
        "              noise = noise[:len(speech)]\n",
        "             else:\n",
        "              noise = noise * (len(speech) // len(noise) + 1)\n",
        "              noise = noise[:len(speech)]\n",
        "\n",
        "             speech = speech.apply_gain(-20)\n",
        "\n",
        "             min_length = min(len(speech),len(noise))\n",
        "\n",
        "             speech = speech[:min_length]\n",
        "             noise = noise[:min_length]\n",
        "             mixed = speech.overlay(noise)\n",
        "             mixed.export(output_path, format=\"wav\")\n",
        "\n",
        "\n",
        "\n"
      ],
      "metadata": {
        "id": "UwM1_6NNxGP8"
      },
      "execution_count": null,
      "outputs": []
    },
    {
      "cell_type": "code",
      "source": [
        "def main(audio_dir, noise_dir):\n",
        "    output_dir = 'mixed_sounds'\n",
        "    os.makedirs(output_dir, exist_ok=True)\n",
        "\n",
        "\n",
        "\n",
        "\n",
        "    for audio_file, noise_file in zip(audio_files, noise_files):\n",
        "        output_path = os.path.join(output_dir, os.path.basename(audio_file))\n",
        "        newsound(audio_file, noise_file, output_path)\n",
        "\n",
        "    with zipfile.ZipFile(\"/content/drive/MyDrive/mixed.zip\", 'w') as zipf:\n",
        "        for root, _, files in os.walk(output_dir):\n",
        "            for file in files:\n",
        "                file_path = os.path.join(root, file)\n",
        "                zipf.write(file_path, os.path.relpath(file_path, output_dir))"
      ],
      "metadata": {
        "id": "np5LafOZ4ydp"
      },
      "execution_count": null,
      "outputs": []
    },
    {
      "cell_type": "code",
      "source": [
        "main(audio_files,noise_files)"
      ],
      "metadata": {
        "id": "H8bMn4XkjyVS"
      },
      "execution_count": null,
      "outputs": []
    },
    {
      "cell_type": "code",
      "source": [],
      "metadata": {
        "id": "5QySgNFXwzti"
      },
      "execution_count": null,
      "outputs": []
    }
  ]
}